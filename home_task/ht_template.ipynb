{
 "cells": [
  {
   "cell_type": "code",
   "execution_count": 2,
   "metadata": {
    "collapsed": true
   },
   "outputs": [],
   "source": [
    "from pyspark.sql import SparkSession, functions as f, types as t"
   ]
  },
  {
   "cell_type": "code",
   "execution_count": 3,
   "outputs": [
    {
     "name": "stdout",
     "output_type": "stream",
     "text": [
      "22/10/22 18:44:17 WARN Utils: Your hostname, anatoliidomanskii-System-Product-Name resolves to a loopback address: 127.0.1.1; using 192.168.1.25 instead (on interface enp5s0)\n",
      "22/10/22 18:44:17 WARN Utils: Set SPARK_LOCAL_IP if you need to bind to another address\n"
     ]
    },
    {
     "name": "stderr",
     "output_type": "stream",
     "text": [
      "Setting default log level to \"WARN\".\n",
      "To adjust logging level use sc.setLogLevel(newLevel). For SparkR, use setLogLevel(newLevel).\n"
     ]
    },
    {
     "name": "stdout",
     "output_type": "stream",
     "text": [
      "22/10/22 18:44:18 WARN NativeCodeLoader: Unable to load native-hadoop library for your platform... using builtin-java classes where applicable\n"
     ]
    }
   ],
   "source": [
    "spark = SparkSession.builder.appName('lect_13_home_task').getOrCreate()"
   ],
   "metadata": {
    "collapsed": false
   }
  },
  {
   "cell_type": "code",
   "execution_count": 4,
   "outputs": [],
   "source": [
    "actor_df = spark.read.csv('./data/actor.csv', header=True, inferSchema=True)\n",
    "address_df = spark.read.csv('./data/address.csv', header=True, inferSchema=True)\n",
    "category_df = spark.read.csv('./data/category.csv', header=True, inferSchema=True)\n",
    "city_df = spark.read.csv('./data/city.csv', header=True, inferSchema=True)\n",
    "country_df = spark.read.csv('./data/country.csv', header=True, inferSchema=True)\n",
    "customer_df = spark.read.csv('./data/customer.csv', header=True, inferSchema=True)\n",
    "film_df = spark.read.csv('./data/film.csv', header=True, inferSchema=True)\n",
    "film_actor_df = spark.read.csv('./data/film_actor.csv', header=True, inferSchema=True)\n",
    "film_category_df = spark.read.csv('./data/film_category.csv', header=True, inferSchema=True)\n",
    "inventory_df = spark.read.csv('./data/inventory.csv', header=True, inferSchema=True)\n",
    "language_df = spark.read.csv('./data/language.csv', header=True, inferSchema=True)\n",
    "payment_df = spark.read.csv('./data/payment.csv', header=True, inferSchema=True)\n",
    "rental_df = spark.read.csv('./data/rental.csv', header=True, inferSchema=True)\n",
    "staff_df = spark.read.csv('./data/staff.csv', header=True, inferSchema=True)\n",
    "store_df = spark.read.csv('./data/store.csv', header=True, inferSchema=True)"
   ],
   "metadata": {
    "collapsed": false
   }
  },
  {
   "cell_type": "markdown",
   "source": [
    "# Домашнє завдання на тему Spark SQL\n",
    "\n",
    "Задачі з домашнього завдання на SQL потрібно розвʼязати за допомогою Spark SQL DataFrame API.\n",
    "\n",
    "- Дампи таблиць знаходяться в папці `data`. Датафрейми таблиць вже створені в клітинці вище.\n",
    "- Можете створювати стільки нових клітинок, скільки вам необхідно.\n",
    "- Розвʼязок кожної задачі має бути відображений в самому файлі (використати метод `.show()`)\n",
    "\n",
    "**Увага!**\n",
    "Використовувати мову запитів SQL безпосередньо забороняється, потрібно використовувати виключно DataFrame API!\n"
   ],
   "metadata": {
    "collapsed": false
   }
  },
  {
   "cell_type": "markdown",
   "source": [
    "1.\n",
    "Вивести кількість фільмів в кожній категорії.\n",
    "Результат відсортувати за спаданням."
   ],
   "metadata": {
    "collapsed": false
   }
  },
  {
   "cell_type": "code",
   "execution_count": 35,
   "outputs": [
    {
     "name": "stdout",
     "output_type": "stream",
     "text": [
      "+-----------+------------+\n",
      "|       name|num_of_films|\n",
      "+-----------+------------+\n",
      "|     Sports|          74|\n",
      "|    Foreign|          73|\n",
      "|     Family|          69|\n",
      "|Documentary|          68|\n",
      "|  Animation|          66|\n",
      "|     Action|          64|\n",
      "|        New|          63|\n",
      "|      Drama|          62|\n",
      "|      Games|          61|\n",
      "|     Sci-Fi|          61|\n",
      "|   Children|          60|\n",
      "|     Comedy|          58|\n",
      "|     Travel|          57|\n",
      "|   Classics|          57|\n",
      "|     Horror|          56|\n",
      "|      Music|          51|\n",
      "+-----------+------------+\n",
      "\n"
     ]
    }
   ],
   "source": [
    "film_category_df.\\\n",
    "    join(category_df, film_category_df.category_id==category_df.category_id, 'left').\\\n",
    "    groupby(category_df.name).\\\n",
    "    agg(f.count('film_id').alias('num_of_films')).\\\n",
    "    orderBy(f.desc('num_of_films')).\\\n",
    "    show()"
   ],
   "metadata": {
    "collapsed": false
   }
  },
  {
   "cell_type": "markdown",
   "source": [
    "2.\n",
    "Вивести 10 акторів, чиї фільми брали на прокат найбільше.\n",
    "Результат відсортувати за спаданням."
   ],
   "metadata": {
    "collapsed": false
   }
  },
  {
   "cell_type": "code",
   "execution_count": 27,
   "outputs": [
    {
     "name": "stdout",
     "output_type": "stream",
     "text": [
      "+-------+-----------+-------------------+-----------+-----------+-------------------+\n",
      "|film_id|category_id|        last_update|category_id|       name|        last_update|\n",
      "+-------+-----------+-------------------+-----------+-----------+-------------------+\n",
      "|      1|          6|2022-02-15 12:07:09|          6|Documentary|2022-02-15 11:46:27|\n",
      "|      2|         11|2022-02-15 12:07:09|         11|     Horror|2022-02-15 11:46:27|\n",
      "|      3|          6|2022-02-15 12:07:09|          6|Documentary|2022-02-15 11:46:27|\n",
      "|      4|         11|2022-02-15 12:07:09|         11|     Horror|2022-02-15 11:46:27|\n",
      "|      5|          8|2022-02-15 12:07:09|          8|     Family|2022-02-15 11:46:27|\n",
      "|      6|          9|2022-02-15 12:07:09|          9|    Foreign|2022-02-15 11:46:27|\n",
      "|      7|          5|2022-02-15 12:07:09|          5|     Comedy|2022-02-15 11:46:27|\n",
      "|      8|         11|2022-02-15 12:07:09|         11|     Horror|2022-02-15 11:46:27|\n",
      "|      9|         11|2022-02-15 12:07:09|         11|     Horror|2022-02-15 11:46:27|\n",
      "|     10|         15|2022-02-15 12:07:09|         15|     Sports|2022-02-15 11:46:27|\n",
      "|     11|          9|2022-02-15 12:07:09|          9|    Foreign|2022-02-15 11:46:27|\n",
      "|     12|         12|2022-02-15 12:07:09|         12|      Music|2022-02-15 11:46:27|\n",
      "|     13|         11|2022-02-15 12:07:09|         11|     Horror|2022-02-15 11:46:27|\n",
      "|     14|          4|2022-02-15 12:07:09|          4|   Classics|2022-02-15 11:46:27|\n",
      "|     15|          9|2022-02-15 12:07:09|          9|    Foreign|2022-02-15 11:46:27|\n",
      "|     16|          9|2022-02-15 12:07:09|          9|    Foreign|2022-02-15 11:46:27|\n",
      "|     17|         12|2022-02-15 12:07:09|         12|      Music|2022-02-15 11:46:27|\n",
      "|     18|          2|2022-02-15 12:07:09|          2|  Animation|2022-02-15 11:46:27|\n",
      "|     19|          1|2022-02-15 12:07:09|          1|     Action|2022-02-15 11:46:27|\n",
      "|     20|         12|2022-02-15 12:07:09|         12|      Music|2022-02-15 11:46:27|\n",
      "+-------+-----------+-------------------+-----------+-----------+-------------------+\n",
      "only showing top 20 rows\n",
      "\n"
     ]
    }
   ],
   "source": [
    "film_category_df.join(category_df, film_category_df.category_id==category_df.category_id, 'left').show()"
   ],
   "metadata": {
    "collapsed": false
   }
  },
  {
   "cell_type": "markdown",
   "source": [
    "3.\n",
    "Вивести категорія фільмів, на яку було витрачено найбільше грошей\n",
    "в прокаті"
   ],
   "metadata": {
    "collapsed": false
   }
  },
  {
   "cell_type": "code",
   "execution_count": 7,
   "outputs": [],
   "source": [
    "# тут має бути розвʼязок задачі"
   ],
   "metadata": {
    "collapsed": false
   }
  },
  {
   "cell_type": "markdown",
   "source": [
    "4.\n",
    "Вивести назви фільмів, яких не має в inventory.\n",
    "Запит має бути без оператора IN"
   ],
   "metadata": {
    "collapsed": false
   }
  },
  {
   "cell_type": "code",
   "execution_count": 8,
   "outputs": [],
   "source": [
    "# тут має бути розвʼязок задачі"
   ],
   "metadata": {
    "collapsed": false
   }
  },
  {
   "cell_type": "markdown",
   "source": [
    "5.\n",
    "Вивести топ 3 актори, які найбільше зʼявлялись в категорії фільмів “Children”"
   ],
   "metadata": {
    "collapsed": false
   }
  },
  {
   "cell_type": "code",
   "execution_count": 9,
   "outputs": [],
   "source": [
    "# тут має бути розвʼязок задачі"
   ],
   "metadata": {
    "collapsed": false
   }
  },
  {
   "cell_type": "markdown",
   "source": [
    "6.\n",
    "Вивести міста з кількістю активних та неактивних клієнтів\n",
    "(в активних customer.active = 1).\n",
    "Результат відсортувати за кількістю неактивних клієнтів за спаданням."
   ],
   "metadata": {
    "collapsed": false
   }
  },
  {
   "cell_type": "code",
   "execution_count": 10,
   "outputs": [],
   "source": [
    "# тут має бути розвʼязок задачі"
   ],
   "metadata": {
    "collapsed": false
   }
  }
 ],
 "metadata": {
  "kernelspec": {
   "display_name": "Python 3",
   "language": "python",
   "name": "python3"
  },
  "language_info": {
   "codemirror_mode": {
    "name": "ipython",
    "version": 2
   },
   "file_extension": ".py",
   "mimetype": "text/x-python",
   "name": "python",
   "nbconvert_exporter": "python",
   "pygments_lexer": "ipython2",
   "version": "2.7.6"
  }
 },
 "nbformat": 4,
 "nbformat_minor": 0
}
